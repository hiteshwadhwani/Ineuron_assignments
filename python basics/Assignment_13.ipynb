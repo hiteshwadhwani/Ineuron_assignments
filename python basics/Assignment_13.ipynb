{
 "cells": [
  {
   "cell_type": "markdown",
   "id": "e9591fa3",
   "metadata": {},
   "source": [
    "# Assignment_13"
   ]
  },
  {
   "cell_type": "markdown",
   "id": "88f6c25b",
   "metadata": {},
   "source": [
    "## library used - csv , json"
   ]
  },
  {
   "cell_type": "markdown",
   "id": "5babed9d",
   "metadata": {},
   "source": [
    "### 1. What advantages do Excel spreadsheets have over CSV spreadsheets?"
   ]
  },
  {
   "cell_type": "code",
   "execution_count": null,
   "id": "4a12873e",
   "metadata": {},
   "outputs": [],
   "source": [
    "\"\"\"Excel are more superior when compared with CSV format. file size of csv is less as compared to xls excel file and it much\n",
    "faster format as compared to excel.csv does not manipulate data and keep it as it is.csv better organizes the large amount of\n",
    "data.csv are the plain text files so can be imported anywhere regardless of any specific software using\"\"\""
   ]
  },
  {
   "cell_type": "markdown",
   "id": "0bf4d59e",
   "metadata": {},
   "source": [
    "### 2.What do you pass to csv.reader() and csv.writer() to create reader and writer objects?"
   ]
  },
  {
   "cell_type": "code",
   "execution_count": 1,
   "id": "5ae9b216",
   "metadata": {},
   "outputs": [],
   "source": [
    "import csv"
   ]
  },
  {
   "cell_type": "code",
   "execution_count": null,
   "id": "cf72d08a",
   "metadata": {},
   "outputs": [],
   "source": [
    "\"\"\"csv.reader(csvfile , dialect , **fmtparams)\"\"\""
   ]
  },
  {
   "cell_type": "code",
   "execution_count": null,
   "id": "07612c7a",
   "metadata": {},
   "outputs": [],
   "source": [
    "\"\"\"csv.writer(csvfile , dialect='excel', **fmtparams)\"\"\""
   ]
  },
  {
   "cell_type": "markdown",
   "id": "b0a3dfd9",
   "metadata": {},
   "source": [
    "### 3. What modes do File objects for reader and writer objects need to be opened in?"
   ]
  },
  {
   "cell_type": "code",
   "execution_count": null,
   "id": "a9628b22",
   "metadata": {},
   "outputs": [],
   "source": [
    "\"\"\"for csv.reader() file object should be open in read mode and for csv.write() file object should be open in write mode\"\"\""
   ]
  },
  {
   "cell_type": "markdown",
   "id": "1385daca",
   "metadata": {},
   "source": [
    "### 4. What method takes a list argument and writes it to a CSV file?"
   ]
  },
  {
   "cell_type": "code",
   "execution_count": 5,
   "id": "2e14b0cf",
   "metadata": {},
   "outputs": [],
   "source": [
    "with open('test3.csv', 'w', newline='') as csvfile:\n",
    "    spamwriter = csv.writer(csvfile, delimiter=' ',quotechar='|', quoting=csv.QUOTE_MINIMAL)\n",
    "    l = [\"hello world\" , \"my name is hitesh wadhwani\" , \"this is ineuron assignment\"]\n",
    "    spamwriter.writerows(l);"
   ]
  },
  {
   "cell_type": "code",
   "execution_count": 6,
   "id": "66160a22",
   "metadata": {},
   "outputs": [
    {
     "name": "stdout",
     "output_type": "stream",
     "text": [
      "h, e, l, l, o,  , w, o, r, l, d\n",
      "m, y,  , n, a, m, e,  , i, s,  , h, i, t, e, s, h,  , w, a, d, h, w, a, n, i\n",
      "t, h, i, s,  , i, s,  , i, n, e, u, r, o, n,  , a, s, s, i, g, n, m, e, n, t\n"
     ]
    }
   ],
   "source": [
    "with open('test3.csv', newline='') as csvfile:\n",
    "    spamreader = csv.reader(csvfile, delimiter=' ', quotechar='|')\n",
    "    for row in spamreader:\n",
    "        print(', '.join(row))"
   ]
  },
  {
   "cell_type": "markdown",
   "id": "299f2965",
   "metadata": {},
   "source": [
    "### 5. What do the keyword arguments delimiter and line terminator do?"
   ]
  },
  {
   "cell_type": "code",
   "execution_count": null,
   "id": "b9305364",
   "metadata": {},
   "outputs": [],
   "source": [
    "\"\"\"generally delimiter goes between the strings in order to tell where the one string ends and another begins\"\"\""
   ]
  },
  {
   "cell_type": "code",
   "execution_count": null,
   "id": "316068ac",
   "metadata": {},
   "outputs": [],
   "source": [
    "\"\"\"terminator generally used at the end of line/input/anything\"\"\""
   ]
  },
  {
   "cell_type": "markdown",
   "id": "f9a6b619",
   "metadata": {},
   "source": [
    "### 6. What function takes a string of JSON data and returns a Python data structure?"
   ]
  },
  {
   "cell_type": "code",
   "execution_count": 7,
   "id": "a2cf7a57",
   "metadata": {},
   "outputs": [],
   "source": [
    "import json"
   ]
  },
  {
   "cell_type": "code",
   "execution_count": 11,
   "id": "25cf1d22",
   "metadata": {},
   "outputs": [],
   "source": [
    "data = '{\"name\":\"hitesh wadhwani\" , \"batch\":\"FSDS\"}'\n",
    "y = json.loads(data)"
   ]
  },
  {
   "cell_type": "code",
   "execution_count": 17,
   "id": "96324326",
   "metadata": {},
   "outputs": [
    {
     "name": "stdout",
     "output_type": "stream",
     "text": [
      "{'name': 'hitesh wadhwani', 'batch': 'FSDS'}\n"
     ]
    }
   ],
   "source": [
    "print(y)"
   ]
  },
  {
   "cell_type": "markdown",
   "id": "f16d9c73",
   "metadata": {},
   "source": [
    "## 7. What function takes a Python data structure and returns a string of JSON data?"
   ]
  },
  {
   "cell_type": "code",
   "execution_count": 22,
   "id": "4fec1de4",
   "metadata": {},
   "outputs": [],
   "source": [
    "d = {'name':'rahul' , 'age':28}\n",
    "x = json.dumps(d)"
   ]
  },
  {
   "cell_type": "code",
   "execution_count": 28,
   "id": "96a28212",
   "metadata": {},
   "outputs": [
    {
     "data": {
      "text/plain": [
       "'{\"name\": \"rahul\", \"age\": 28}'"
      ]
     },
     "execution_count": 28,
     "metadata": {},
     "output_type": "execute_result"
    }
   ],
   "source": [
    "x"
   ]
  }
 ],
 "metadata": {
  "kernelspec": {
   "display_name": "Python 3 (ipykernel)",
   "language": "python",
   "name": "python3"
  },
  "language_info": {
   "codemirror_mode": {
    "name": "ipython",
    "version": 3
   },
   "file_extension": ".py",
   "mimetype": "text/x-python",
   "name": "python",
   "nbconvert_exporter": "python",
   "pygments_lexer": "ipython3",
   "version": "3.9.12"
  }
 },
 "nbformat": 4,
 "nbformat_minor": 5
}
