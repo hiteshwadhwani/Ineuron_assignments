{
 "cells": [
  {
   "cell_type": "markdown",
   "id": "38bc958d",
   "metadata": {},
   "source": [
    "# Assignemt_11"
   ]
  },
  {
   "cell_type": "code",
   "execution_count": null,
   "id": "094245b0",
   "metadata": {},
   "outputs": [],
   "source": [
    "\"\"\"1. Create an assert statement that throws an AssertionError if the variable spam is a negative\n",
    "integer.\"\"\""
   ]
  },
  {
   "cell_type": "code",
   "execution_count": 1,
   "id": "a5b61bec",
   "metadata": {},
   "outputs": [],
   "source": [
    "def fun(spam):\n",
    "    assert spam > 0"
   ]
  },
  {
   "cell_type": "code",
   "execution_count": null,
   "id": "2242c945",
   "metadata": {},
   "outputs": [],
   "source": [
    "\"\"\"2. Write an assert statement that triggers an AssertionError if the variables eggs and bacon contain\n",
    "strings that are the same as each other, even if their cases are different (that is, &#39;hello&#39; and &#39;hello&#39; are\n",
    "considered the same, and &#39;goodbye&#39; and &#39;GOODbye&#39; are also considered the same).\"\"\""
   ]
  },
  {
   "cell_type": "code",
   "execution_count": 3,
   "id": "90514e66",
   "metadata": {},
   "outputs": [],
   "source": [
    "def fun1(eggs,bacon):\n",
    "    assert eggs.lower() != bacon.lower()\n",
    "    print(f'{eggs} {bacon}')"
   ]
  },
  {
   "cell_type": "code",
   "execution_count": 4,
   "id": "d5e35ad7",
   "metadata": {},
   "outputs": [
    {
     "name": "stdout",
     "output_type": "stream",
     "text": [
      "hello world\n"
     ]
    }
   ],
   "source": [
    "fun1(\"hello\" , \"world\")"
   ]
  },
  {
   "cell_type": "code",
   "execution_count": 6,
   "id": "2712ed20",
   "metadata": {},
   "outputs": [
    {
     "ename": "AssertionError",
     "evalue": "",
     "output_type": "error",
     "traceback": [
      "\u001b[1;31m---------------------------------------------------------------------------\u001b[0m",
      "\u001b[1;31mAssertionError\u001b[0m                            Traceback (most recent call last)",
      "Input \u001b[1;32mIn [6]\u001b[0m, in \u001b[0;36m<cell line: 1>\u001b[1;34m()\u001b[0m\n\u001b[1;32m----> 1\u001b[0m \u001b[43mfun1\u001b[49m\u001b[43m(\u001b[49m\u001b[38;5;124;43m\"\u001b[39;49m\u001b[38;5;124;43mhello\u001b[39;49m\u001b[38;5;124;43m\"\u001b[39;49m\u001b[43m \u001b[49m\u001b[43m,\u001b[49m\u001b[43m \u001b[49m\u001b[38;5;124;43m\"\u001b[39;49m\u001b[38;5;124;43mhello\u001b[39;49m\u001b[38;5;124;43m\"\u001b[39;49m\u001b[43m)\u001b[49m\n",
      "Input \u001b[1;32mIn [3]\u001b[0m, in \u001b[0;36mfun1\u001b[1;34m(eggs, bacon)\u001b[0m\n\u001b[0;32m      1\u001b[0m \u001b[38;5;28;01mdef\u001b[39;00m \u001b[38;5;21mfun1\u001b[39m(eggs,bacon):\n\u001b[1;32m----> 2\u001b[0m     \u001b[38;5;28;01massert\u001b[39;00m eggs\u001b[38;5;241m.\u001b[39mlower() \u001b[38;5;241m!=\u001b[39m bacon\u001b[38;5;241m.\u001b[39mlower()\n\u001b[0;32m      3\u001b[0m     \u001b[38;5;28mprint\u001b[39m(\u001b[38;5;124mf\u001b[39m\u001b[38;5;124m'\u001b[39m\u001b[38;5;132;01m{\u001b[39;00meggs\u001b[38;5;132;01m}\u001b[39;00m\u001b[38;5;124m \u001b[39m\u001b[38;5;132;01m{\u001b[39;00mbacon\u001b[38;5;132;01m}\u001b[39;00m\u001b[38;5;124m'\u001b[39m)\n",
      "\u001b[1;31mAssertionError\u001b[0m: "
     ]
    }
   ],
   "source": [
    "fun1(\"hello\" , \"hello\")"
   ]
  },
  {
   "cell_type": "code",
   "execution_count": null,
   "id": "ab2d6eb4",
   "metadata": {},
   "outputs": [],
   "source": [
    "\"\"\"3. Create an assert statement that throws an AssertionError every time.\"\"\""
   ]
  },
  {
   "cell_type": "code",
   "execution_count": 10,
   "id": "5ba86707",
   "metadata": {},
   "outputs": [],
   "source": [
    "def always():\n",
    "    assert False, \"AssertionError always\""
   ]
  },
  {
   "cell_type": "code",
   "execution_count": 11,
   "id": "1d58f4dd",
   "metadata": {},
   "outputs": [
    {
     "ename": "AssertionError",
     "evalue": "AssertionError always",
     "output_type": "error",
     "traceback": [
      "\u001b[1;31m---------------------------------------------------------------------------\u001b[0m",
      "\u001b[1;31mAssertionError\u001b[0m                            Traceback (most recent call last)",
      "Input \u001b[1;32mIn [11]\u001b[0m, in \u001b[0;36m<cell line: 1>\u001b[1;34m()\u001b[0m\n\u001b[1;32m----> 1\u001b[0m \u001b[43malways\u001b[49m\u001b[43m(\u001b[49m\u001b[43m)\u001b[49m\n",
      "Input \u001b[1;32mIn [10]\u001b[0m, in \u001b[0;36malways\u001b[1;34m()\u001b[0m\n\u001b[0;32m      1\u001b[0m \u001b[38;5;28;01mdef\u001b[39;00m \u001b[38;5;21malways\u001b[39m():\n\u001b[1;32m----> 2\u001b[0m     \u001b[38;5;28;01massert\u001b[39;00m \u001b[38;5;28;01mFalse\u001b[39;00m, \u001b[38;5;124m\"\u001b[39m\u001b[38;5;124mAssertionError always\u001b[39m\u001b[38;5;124m\"\u001b[39m\n",
      "\u001b[1;31mAssertionError\u001b[0m: AssertionError always"
     ]
    }
   ],
   "source": [
    "always()"
   ]
  },
  {
   "cell_type": "code",
   "execution_count": null,
   "id": "7e687b8b",
   "metadata": {},
   "outputs": [],
   "source": [
    "\"\"\"4. What are the two lines that must be present in your software in order to call logging.debug()?\"\"\""
   ]
  },
  {
   "cell_type": "code",
   "execution_count": 12,
   "id": "988f730c",
   "metadata": {},
   "outputs": [],
   "source": [
    "import logging as lg"
   ]
  },
  {
   "cell_type": "code",
   "execution_count": 13,
   "id": "3d1d8882",
   "metadata": {},
   "outputs": [],
   "source": [
    "lg.basicConfig(filename='test.log' , level=lg.INFO , format='%(asctime)s %(levelname)s %(message)s')"
   ]
  },
  {
   "cell_type": "code",
   "execution_count": null,
   "id": "72fb9635",
   "metadata": {},
   "outputs": [],
   "source": [
    "\"\"\"5. What are the two lines that your program must have in order to have logging.debug() send a\n",
    "logging message to a file named programLog.txt?\"\"\""
   ]
  },
  {
   "cell_type": "code",
   "execution_count": 15,
   "id": "815564d2",
   "metadata": {},
   "outputs": [],
   "source": [
    "import logging as lg\n",
    "lg.basicConfig(filename='programLog.txt' , level=lg.INFO , format='%(asctime)s %(levelname)s %(message)s')\n",
    "lg.debug(\"debug msg\")"
   ]
  },
  {
   "cell_type": "code",
   "execution_count": null,
   "id": "271bccad",
   "metadata": {},
   "outputs": [],
   "source": [
    "\"\"\"6. What are the five levels of logging?\"\"\""
   ]
  },
  {
   "cell_type": "code",
   "execution_count": null,
   "id": "a3ac642a",
   "metadata": {},
   "outputs": [],
   "source": [
    "\"\"\"\n",
    "five types of log -\n",
    "1)debug - 10\n",
    "2)warning - 30\n",
    "3)error - 40\n",
    "4)critical - 50\n",
    "5)info - 20\n",
    "\"\"\""
   ]
  },
  {
   "cell_type": "code",
   "execution_count": null,
   "id": "ede4ad2f",
   "metadata": {},
   "outputs": [],
   "source": [
    "\"\"\"7. What line of code would you add to your software to disable all logging messages?\"\"\""
   ]
  },
  {
   "cell_type": "code",
   "execution_count": null,
   "id": "ac678e31",
   "metadata": {},
   "outputs": [],
   "source": [
    "logging.disable = True"
   ]
  },
  {
   "cell_type": "code",
   "execution_count": null,
   "id": "a4eda4a7",
   "metadata": {},
   "outputs": [],
   "source": [
    "\"\"\"8.Why is using logging messages better than using print() to display the same message?\"\"\""
   ]
  },
  {
   "cell_type": "code",
   "execution_count": null,
   "id": "5c6e4bf4",
   "metadata": {},
   "outputs": [],
   "source": [
    "\"\"\"it helps me to debug when there is failure\"\"\""
   ]
  },
  {
   "cell_type": "code",
   "execution_count": null,
   "id": "4cfe137d",
   "metadata": {},
   "outputs": [],
   "source": [
    "\"\"\"9. What are the differences between the Step Over, Step In, and Step Out buttons in the debugger?\"\"\""
   ]
  },
  {
   "cell_type": "code",
   "execution_count": null,
   "id": "13792507",
   "metadata": {},
   "outputs": [],
   "source": [
    "\"\"\"step over - will execute the next code of line if the function is written in next line it will return directly value from\n",
    "function without debugging each line of code\n",
    "step in - it will behave as step over but when function come it will execute function code line by line\n",
    "step out - to take debugger to the funciton where it was called \n",
    "\"\"\""
   ]
  },
  {
   "cell_type": "code",
   "execution_count": null,
   "id": "5f1d089d",
   "metadata": {},
   "outputs": [],
   "source": [
    "\"\"\"10.After you click Continue, when will the debugger stop ?\"\"\""
   ]
  },
  {
   "cell_type": "code",
   "execution_count": null,
   "id": "f1118f60",
   "metadata": {},
   "outputs": [],
   "source": [
    "\"\"\"it will continue the debugging until it reach breakpoint\"\"\""
   ]
  },
  {
   "cell_type": "code",
   "execution_count": null,
   "id": "82f160fd",
   "metadata": {},
   "outputs": [],
   "source": [
    "\"\"\"breakpoint is a pointer to a line of code where debugger will pause when it reaches that line of code\"\"\""
   ]
  }
 ],
 "metadata": {
  "kernelspec": {
   "display_name": "Python 3 (ipykernel)",
   "language": "python",
   "name": "python3"
  },
  "language_info": {
   "codemirror_mode": {
    "name": "ipython",
    "version": 3
   },
   "file_extension": ".py",
   "mimetype": "text/x-python",
   "name": "python",
   "nbconvert_exporter": "python",
   "pygments_lexer": "ipython3",
   "version": "3.9.12"
  }
 },
 "nbformat": 4,
 "nbformat_minor": 5
}
