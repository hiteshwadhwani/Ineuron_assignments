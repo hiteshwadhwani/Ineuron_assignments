{
 "cells": [
  {
   "cell_type": "markdown",
   "id": "ca890752",
   "metadata": {},
   "source": [
    "# Assignment_3"
   ]
  },
  {
   "cell_type": "code",
   "execution_count": null,
   "id": "04eed73d",
   "metadata": {},
   "outputs": [],
   "source": [
    "'''\n",
    "1. Why are functions advantageous to have in your programs?\n",
    "2. When does the code in a function run: when it&#39;s specified or when it&#39;s called?\n",
    "3. What statement creates a function?\n",
    "4. What is the difference between a function and a function call?\n",
    "5. How many global scopes are there in a Python program? How many local scopes?\n",
    "6. What happens to variables in a local scope when the function call returns?\n",
    "7. What is the concept of a return value? Is it possible to have a return value in an expression?\n",
    "8. If a function does not have a return statement, what is the return value of a call to that function?\n",
    "9. How do you make a function variable refer to the global variable?\n",
    "10. What is the data type of None?\n",
    "11. What does the sentence import areallyourpetsnamederic do?\n",
    "12. If you had a bacon() feature in a spam module, what would you call it after importing spam?\n",
    "13. What can you do to save a programme from crashing if it encounters an error?\n",
    "14. What is the purpose of the try clause? What is the purpose of the except clause?\n",
    "'''"
   ]
  },
  {
   "cell_type": "code",
   "execution_count": null,
   "id": "2e763e23",
   "metadata": {},
   "outputs": [],
   "source": [
    "'''\n",
    "1) with the help of fuction we do not have to write the same logic again and again . It increases the code reusability .\n",
    "'''"
   ]
  },
  {
   "cell_type": "code",
   "execution_count": null,
   "id": "bf350431",
   "metadata": {},
   "outputs": [],
   "source": [
    "'''\n",
    "2) function runs when it is called\n",
    "'''"
   ]
  },
  {
   "cell_type": "code",
   "execution_count": null,
   "id": "e189f844",
   "metadata": {},
   "outputs": [],
   "source": [
    "'''\n",
    "3) def statement creates a function\n",
    "'''"
   ]
  },
  {
   "cell_type": "code",
   "execution_count": null,
   "id": "f9079551",
   "metadata": {},
   "outputs": [],
   "source": [
    "'''\n",
    "4) function is only a block of code which contain some logic and to run that block of code we have to call the function\n",
    "'''"
   ]
  },
  {
   "cell_type": "code",
   "execution_count": null,
   "id": "1cd83df1",
   "metadata": {},
   "outputs": [],
   "source": [
    "'''\n",
    "5) variable created in the main body of a python program visible to all the fucntions - gloabal scope\n",
    "    varibale declared in a function its scope stays within the funciton and cannot be used by \n",
    "    any other function and its scope is local\n",
    "'''"
   ]
  },
  {
   "cell_type": "code",
   "execution_count": null,
   "id": "e5a999fc",
   "metadata": {},
   "outputs": [],
   "source": [
    "'''\n",
    "6) the local varible gets destroyed\n",
    "'''"
   ]
  },
  {
   "cell_type": "code",
   "execution_count": null,
   "id": "bc4bbb43",
   "metadata": {},
   "outputs": [],
   "source": [
    "'''\n",
    "7) when we have to give any value as output within a fucntion we use return . \n",
    "fucntion terminates when return is called . expression cannot have return statement\n",
    "'''"
   ]
  },
  {
   "cell_type": "code",
   "execution_count": null,
   "id": "71ce5d5d",
   "metadata": {},
   "outputs": [],
   "source": [
    "'''\n",
    "8) if function does not have return statement by default its return value is null \n",
    "'''"
   ]
  },
  {
   "cell_type": "code",
   "execution_count": null,
   "id": "8e4c6a3f",
   "metadata": {},
   "outputs": [],
   "source": [
    "'''\n",
    "9) global keyword is used to tell the python to use global variable within a function without creating a variable \n",
    "   with local scope \n",
    "'''"
   ]
  },
  {
   "cell_type": "code",
   "execution_count": null,
   "id": "eac9771c",
   "metadata": {},
   "outputs": [],
   "source": [
    "'''\n",
    "10) NoneType is the data type of None\n",
    "'''"
   ]
  },
  {
   "cell_type": "code",
   "execution_count": null,
   "id": "d1255025",
   "metadata": {},
   "outputs": [],
   "source": [
    "'''\n",
    "11) it imports all the functions written in package areallyourpetsnamederic\n",
    "'''"
   ]
  },
  {
   "cell_type": "code",
   "execution_count": null,
   "id": "77870c3c",
   "metadata": {},
   "outputs": [],
   "source": [
    "'''\n",
    "12) import spam\n",
    "    spam.bacon()\n",
    "'''"
   ]
  },
  {
   "cell_type": "code",
   "execution_count": null,
   "id": "8f17d8ca",
   "metadata": {},
   "outputs": [],
   "source": [
    "'''\n",
    "13) exception handling is used to save a program from crashing when encounters error\n",
    "'''"
   ]
  },
  {
   "cell_type": "code",
   "execution_count": null,
   "id": "4f4c5578",
   "metadata": {},
   "outputs": [],
   "source": [
    "'''\n",
    "14) block of code is written within a try block and if any error occurs when running that block of code then the code written\n",
    "in except block runs\n",
    "'''"
   ]
  }
 ],
 "metadata": {
  "kernelspec": {
   "display_name": "Python 3 (ipykernel)",
   "language": "python",
   "name": "python3"
  },
  "language_info": {
   "codemirror_mode": {
    "name": "ipython",
    "version": 3
   },
   "file_extension": ".py",
   "mimetype": "text/x-python",
   "name": "python",
   "nbconvert_exporter": "python",
   "pygments_lexer": "ipython3",
   "version": "3.9.12"
  }
 },
 "nbformat": 4,
 "nbformat_minor": 5
}
