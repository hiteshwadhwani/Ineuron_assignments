{
 "cells": [
  {
   "cell_type": "code",
   "execution_count": 1,
   "id": "03cd3abb",
   "metadata": {},
   "outputs": [
    {
     "data": {
      "text/plain": [
       "\"1. In the below elements which of them are values or an expression? eg:- values can be\\ninteger or string and expressions will be mathematical operators.\\n*\\n'hello'\\n-87.8\\n-\\n/\\n+\\n6\\n\""
      ]
     },
     "execution_count": 1,
     "metadata": {},
     "output_type": "execute_result"
    }
   ],
   "source": [
    "\"\"\"1. In the below elements which of them are values or an expression? eg:- values can be\n",
    "integer or string and expressions will be mathematical operators.\n",
    "*\n",
    "'hello'\n",
    "-87.8\n",
    "-\n",
    "/\n",
    "+\n",
    "6\n",
    "\"\"\""
   ]
  },
  {
   "cell_type": "code",
   "execution_count": null,
   "id": "2bda4950",
   "metadata": {},
   "outputs": [],
   "source": [
    "\"\"\"* - expression\n",
    "'hello' - value\n",
    "-87.5 - value\n",
    "- - expression\n",
    "/ - expression\n",
    "+ - expression\n",
    "6 - value\n",
    "\"\"\"\n"
   ]
  },
  {
   "cell_type": "code",
   "execution_count": null,
   "id": "d1837764",
   "metadata": {},
   "outputs": [],
   "source": [
    "\"\"\"2. What is the difference between string and variable?\"\"\""
   ]
  },
  {
   "cell_type": "code",
   "execution_count": null,
   "id": "ed02adec",
   "metadata": {},
   "outputs": [],
   "source": [
    "\"\"\"varible are name reference or given object or variable are contianers to store data values\n",
    "string is a data type of a variable\"\"\""
   ]
  },
  {
   "cell_type": "code",
   "execution_count": null,
   "id": "04a02259",
   "metadata": {},
   "outputs": [],
   "source": [
    "\"\"\"3. Describe three different data types.\"\"\""
   ]
  },
  {
   "cell_type": "code",
   "execution_count": null,
   "id": "dc332c31",
   "metadata": {},
   "outputs": [],
   "source": [
    "\"\"\"list - it can store n number of values of different data types . list can also store list. list are mutable\n",
    "example - l = [1,2,3,4,5]\n",
    "dictionary - it store data values as key value pairs\n",
    "example - d = {'k1':'hitesh' , 'k2':'wadhwani'}\n",
    "tuple - tuple can also store n number of values of different data types . tuples are immutable.\n",
    "example - t = (1,2,True,(1,2,3))\n",
    "\"\"\""
   ]
  },
  {
   "cell_type": "code",
   "execution_count": null,
   "id": "544bca7e",
   "metadata": {},
   "outputs": [],
   "source": [
    "\"\"\"4. What is an expression made up of? What do all expressions do?\"\"\""
   ]
  },
  {
   "cell_type": "code",
   "execution_count": null,
   "id": "74c93465",
   "metadata": {},
   "outputs": [],
   "source": [
    "\"\"\"expression are the combination of operators and operands . expression are interpreted to produce some value .\"\"\""
   ]
  },
  {
   "cell_type": "code",
   "execution_count": null,
   "id": "8b513715",
   "metadata": {},
   "outputs": [],
   "source": [
    "\"\"\"5. This assignment statements, like spam = 10. What is the difference between an\n",
    "expression and a statement?\"\"\""
   ]
  },
  {
   "cell_type": "code",
   "execution_count": null,
   "id": "d19a1694",
   "metadata": {},
   "outputs": [],
   "source": [
    "\"\"\"expression are just the representation of a value while statement are the standalone action or commands or unit of code which return nothing\"\"\""
   ]
  },
  {
   "cell_type": "code",
   "execution_count": null,
   "id": "a871e947",
   "metadata": {},
   "outputs": [],
   "source": [
    "\"\"\"6. After running the following code, what does the variable bacon contain?\n",
    "bacon = 22\n",
    "bacon + 1\n",
    "\"\"\""
   ]
  },
  {
   "cell_type": "code",
   "execution_count": null,
   "id": "c4a5dede",
   "metadata": {},
   "outputs": [],
   "source": [
    "\"\"\"value of bacon will be incremented by 1 and its value will be 23\"\"\""
   ]
  },
  {
   "cell_type": "code",
   "execution_count": null,
   "id": "540cab09",
   "metadata": {},
   "outputs": [],
   "source": [
    "\"\"\"7. What should the values of the following two terms be?\n",
    "'spam' + 'spamspam'\n",
    "'spam' * 3\n",
    "\"\"\""
   ]
  },
  {
   "cell_type": "code",
   "execution_count": 5,
   "id": "d3426541",
   "metadata": {},
   "outputs": [
    {
     "data": {
      "text/plain": [
       "'spamspam'"
      ]
     },
     "execution_count": 5,
     "metadata": {},
     "output_type": "execute_result"
    }
   ],
   "source": [
    "'spam' + 'spam'"
   ]
  },
  {
   "cell_type": "code",
   "execution_count": 6,
   "id": "7a0158ed",
   "metadata": {},
   "outputs": [
    {
     "data": {
      "text/plain": [
       "'spamspamspam'"
      ]
     },
     "execution_count": 6,
     "metadata": {},
     "output_type": "execute_result"
    }
   ],
   "source": [
    "'spam'*3"
   ]
  },
  {
   "cell_type": "code",
   "execution_count": null,
   "id": "f64aad58",
   "metadata": {},
   "outputs": [],
   "source": [
    "\"\"\"8. Why is eggs a valid variable name while 100 is invalid?\"\"\""
   ]
  },
  {
   "cell_type": "code",
   "execution_count": null,
   "id": "7e5722e3",
   "metadata": {},
   "outputs": [],
   "source": [
    "\"\"\"egg is a valid varible name because it starts with a character\n",
    "100 is invalid because valid varibale name cannot start with a number it can only start with character or underscore\"\"\""
   ]
  },
  {
   "cell_type": "code",
   "execution_count": null,
   "id": "be86ea76",
   "metadata": {},
   "outputs": [],
   "source": [
    "\"\"\"9. What three functions can be used to get the integer, floating-point number, or string\n",
    "version of a value?\n",
    "\"\"\""
   ]
  },
  {
   "cell_type": "code",
   "execution_count": 8,
   "id": "c7764bc7",
   "metadata": {},
   "outputs": [
    {
     "name": "stdout",
     "output_type": "stream",
     "text": [
      "10\n",
      "10.0\n",
      "10\n"
     ]
    }
   ],
   "source": [
    "val = 10\n",
    "print(int(val))\n",
    "print(float(val))\n",
    "print(str(val))"
   ]
  },
  {
   "cell_type": "code",
   "execution_count": null,
   "id": "7134bbae",
   "metadata": {},
   "outputs": [],
   "source": [
    "\"\"\"10. Why does this expression cause an error? How can you fix it?\n",
    "'i have eaten' + 99 + 'burritos'\n",
    "\"\"\""
   ]
  },
  {
   "cell_type": "code",
   "execution_count": 12,
   "id": "c9e4172f",
   "metadata": {},
   "outputs": [
    {
     "ename": "TypeError",
     "evalue": "can only concatenate str (not \"int\") to str",
     "output_type": "error",
     "traceback": [
      "\u001b[1;31m---------------------------------------------------------------------------\u001b[0m",
      "\u001b[1;31mTypeError\u001b[0m                                 Traceback (most recent call last)",
      "Input \u001b[1;32mIn [12]\u001b[0m, in \u001b[0;36m<cell line: 1>\u001b[1;34m()\u001b[0m\n\u001b[1;32m----> 1\u001b[0m \u001b[38;5;124;43m'\u001b[39;49m\u001b[38;5;124;43mi have eaten\u001b[39;49m\u001b[38;5;124;43m'\u001b[39;49m\u001b[43m \u001b[49m\u001b[38;5;241;43m+\u001b[39;49m\u001b[43m \u001b[49m\u001b[38;5;241;43m99\u001b[39;49m\u001b[38;5;241m+\u001b[39m\u001b[38;5;124m'\u001b[39m\u001b[38;5;124mburritos\u001b[39m\u001b[38;5;124m'\u001b[39m\n",
      "\u001b[1;31mTypeError\u001b[0m: can only concatenate str (not \"int\") to str"
     ]
    }
   ],
   "source": [
    "'i have eaten' + 99+'burritos' #strings cannot be concatenated with integer"
   ]
  },
  {
   "cell_type": "code",
   "execution_count": 13,
   "id": "df787855",
   "metadata": {},
   "outputs": [
    {
     "data": {
      "text/plain": [
       "'i have eaten99burritos'"
      ]
     },
     "execution_count": 13,
     "metadata": {},
     "output_type": "execute_result"
    }
   ],
   "source": [
    "'i have eaten' + '99' +'burritos'"
   ]
  }
 ],
 "metadata": {
  "kernelspec": {
   "display_name": "Python 3 (ipykernel)",
   "language": "python",
   "name": "python3"
  },
  "language_info": {
   "codemirror_mode": {
    "name": "ipython",
    "version": 3
   },
   "file_extension": ".py",
   "mimetype": "text/x-python",
   "name": "python",
   "nbconvert_exporter": "python",
   "pygments_lexer": "ipython3",
   "version": "3.9.12"
  }
 },
 "nbformat": 4,
 "nbformat_minor": 5
}
