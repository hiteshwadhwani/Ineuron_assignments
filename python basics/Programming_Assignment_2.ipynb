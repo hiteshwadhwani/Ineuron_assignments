{
 "cells": [
  {
   "cell_type": "markdown",
   "id": "4b9b3c68",
   "metadata": {},
   "source": [
    "# Programming Assignment_2\n"
   ]
  },
  {
   "cell_type": "markdown",
   "id": "b9c0afc5",
   "metadata": {},
   "source": [
    "### 1. Write a Python program to convert kilometers to miles?"
   ]
  },
  {
   "cell_type": "code",
   "execution_count": 1,
   "id": "07dbcc08",
   "metadata": {},
   "outputs": [],
   "source": [
    "def KmToMile(km):\n",
    "    return 0.621 * km"
   ]
  },
  {
   "cell_type": "code",
   "execution_count": 2,
   "id": "f2f7e4de",
   "metadata": {},
   "outputs": [
    {
     "data": {
      "text/plain": [
       "6.21"
      ]
     },
     "execution_count": 2,
     "metadata": {},
     "output_type": "execute_result"
    }
   ],
   "source": [
    "KmToMile(10)"
   ]
  },
  {
   "cell_type": "markdown",
   "id": "5cbb9572",
   "metadata": {},
   "source": [
    "### 2. Write a Python program to convert Celsius to Fahrenheit?"
   ]
  },
  {
   "cell_type": "code",
   "execution_count": 3,
   "id": "77511306",
   "metadata": {},
   "outputs": [],
   "source": [
    "def CelToFer(cels):\n",
    "    return (cels * 9.0/5.0) + 32.0"
   ]
  },
  {
   "cell_type": "code",
   "execution_count": 5,
   "id": "1be57f16",
   "metadata": {},
   "outputs": [
    {
     "data": {
      "text/plain": [
       "50.0"
      ]
     },
     "execution_count": 5,
     "metadata": {},
     "output_type": "execute_result"
    }
   ],
   "source": [
    "CelToFer(10)"
   ]
  },
  {
   "cell_type": "markdown",
   "id": "fec7da02",
   "metadata": {},
   "source": [
    "### 3. Write a Python program to display calendar?"
   ]
  },
  {
   "cell_type": "code",
   "execution_count": 6,
   "id": "fd21fefc",
   "metadata": {},
   "outputs": [],
   "source": [
    "import calendar"
   ]
  },
  {
   "cell_type": "code",
   "execution_count": 9,
   "id": "591a85ca",
   "metadata": {},
   "outputs": [
    {
     "name": "stdout",
     "output_type": "stream",
     "text": [
      "input year : 2021\n",
      "intput month : 2\n",
      "   February 2021\n",
      "Mo Tu We Th Fr Sa Su\n",
      " 1  2  3  4  5  6  7\n",
      " 8  9 10 11 12 13 14\n",
      "15 16 17 18 19 20 21\n",
      "22 23 24 25 26 27 28\n",
      "\n"
     ]
    }
   ],
   "source": [
    "yy = int(input(\"input year : \"))\n",
    "mm = int(input(\"intput month : \"))\n",
    "print(calendar.month(yy, mm))"
   ]
  },
  {
   "cell_type": "markdown",
   "id": "9312fbfb",
   "metadata": {},
   "source": [
    "### 4. Write a Python program to solve quadratic equation?"
   ]
  },
  {
   "cell_type": "code",
   "execution_count": 2,
   "id": "40eb9d3d",
   "metadata": {},
   "outputs": [],
   "source": [
    "a,b,c = 2,3,4"
   ]
  },
  {
   "cell_type": "code",
   "execution_count": 12,
   "id": "15b62b8c",
   "metadata": {},
   "outputs": [],
   "source": [
    "import cmath"
   ]
  },
  {
   "cell_type": "code",
   "execution_count": 13,
   "id": "19dd46bc",
   "metadata": {},
   "outputs": [],
   "source": [
    "def quadraticSol(a,b,c):\n",
    "    d = (b**2) - (4*a*c)\n",
    "    return (-b+cmath.sqrt(d)) / (2*a) , (-b-cmath.sqrt(d)) / (2*a)"
   ]
  },
  {
   "cell_type": "code",
   "execution_count": 14,
   "id": "4bf411f1",
   "metadata": {},
   "outputs": [
    {
     "data": {
      "text/plain": [
       "((-0.75+1.1989578808281798j), (-0.75-1.1989578808281798j))"
      ]
     },
     "execution_count": 14,
     "metadata": {},
     "output_type": "execute_result"
    }
   ],
   "source": [
    "quadraticSol(a,b,c)"
   ]
  },
  {
   "cell_type": "markdown",
   "id": "daa8e4bc",
   "metadata": {},
   "source": [
    "### 5. Write a Python program to swap two variables without temp variable?"
   ]
  },
  {
   "cell_type": "code",
   "execution_count": 17,
   "id": "04f5a71b",
   "metadata": {},
   "outputs": [],
   "source": [
    "def swap(a,b):\n",
    "    a,b = b,a\n",
    "    return a,b"
   ]
  },
  {
   "cell_type": "code",
   "execution_count": 18,
   "id": "7beaacb3",
   "metadata": {},
   "outputs": [
    {
     "name": "stdout",
     "output_type": "stream",
     "text": [
      "a = 20 , b = 10\n"
     ]
    }
   ],
   "source": [
    "a,b = swap(10,20)\n",
    "print(f'a = {a} , b = {b}')"
   ]
  }
 ],
 "metadata": {
  "kernelspec": {
   "display_name": "Python 3 (ipykernel)",
   "language": "python",
   "name": "python3"
  },
  "language_info": {
   "codemirror_mode": {
    "name": "ipython",
    "version": 3
   },
   "file_extension": ".py",
   "mimetype": "text/x-python",
   "name": "python",
   "nbconvert_exporter": "python",
   "pygments_lexer": "ipython3",
   "version": "3.9.12"
  }
 },
 "nbformat": 4,
 "nbformat_minor": 5
}
