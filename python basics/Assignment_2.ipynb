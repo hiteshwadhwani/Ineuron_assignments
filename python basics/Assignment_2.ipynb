{
 "cells": [
  {
   "cell_type": "markdown",
   "id": "26b271c6",
   "metadata": {},
   "source": [
    "# Assignment_2"
   ]
  },
  {
   "cell_type": "code",
   "execution_count": 1,
   "id": "08d1a9ed",
   "metadata": {},
   "outputs": [],
   "source": [
    "#1.What are the two values of the Boolean data type? How do you write them?"
   ]
  },
  {
   "cell_type": "code",
   "execution_count": 2,
   "id": "8cbe5368",
   "metadata": {},
   "outputs": [],
   "source": [
    "#true and false"
   ]
  },
  {
   "cell_type": "code",
   "execution_count": 3,
   "id": "77a74682",
   "metadata": {},
   "outputs": [],
   "source": [
    "#2. What are the three different types of Boolean operators?"
   ]
  },
  {
   "cell_type": "code",
   "execution_count": 4,
   "id": "6dda1713",
   "metadata": {},
   "outputs": [],
   "source": [
    "#AND , OR , NOT"
   ]
  },
  {
   "cell_type": "code",
   "execution_count": 7,
   "id": "a5189338",
   "metadata": {},
   "outputs": [],
   "source": [
    "'''3. Make a list of each Boolean operator&#39;s truth tables (i.e. every possible combination of Boolean\n",
    "values for the operator and what it evaluate ).'''"
   ]
  },
  {
   "cell_type": "code",
   "execution_count": 8,
   "id": "159cb6a0",
   "metadata": {},
   "outputs": [],
   "source": [
    "l = [True and True , True and False , False and True , False and False]"
   ]
  },
  {
   "cell_type": "code",
   "execution_count": 9,
   "id": "ad77d898",
   "metadata": {},
   "outputs": [
    {
     "data": {
      "text/plain": [
       "[True, False, False, False]"
      ]
     },
     "execution_count": 9,
     "metadata": {},
     "output_type": "execute_result"
    }
   ],
   "source": [
    "l"
   ]
  },
  {
   "cell_type": "code",
   "execution_count": 10,
   "id": "d7be5164",
   "metadata": {},
   "outputs": [],
   "source": [
    "l1 = [True or True , True or False , False or True , False or False]"
   ]
  },
  {
   "cell_type": "code",
   "execution_count": 11,
   "id": "17a05879",
   "metadata": {},
   "outputs": [
    {
     "data": {
      "text/plain": [
       "[True, True, True, False]"
      ]
     },
     "execution_count": 11,
     "metadata": {},
     "output_type": "execute_result"
    }
   ],
   "source": [
    "l1"
   ]
  },
  {
   "cell_type": "code",
   "execution_count": 13,
   "id": "94617ce5",
   "metadata": {},
   "outputs": [],
   "source": [
    "l2 = [not True , not False]"
   ]
  },
  {
   "cell_type": "code",
   "execution_count": 15,
   "id": "c69730e1",
   "metadata": {},
   "outputs": [
    {
     "data": {
      "text/plain": [
       "[False, True]"
      ]
     },
     "execution_count": 15,
     "metadata": {},
     "output_type": "execute_result"
    }
   ],
   "source": [
    "l2"
   ]
  },
  {
   "cell_type": "code",
   "execution_count": null,
   "id": "5488670c",
   "metadata": {},
   "outputs": [],
   "source": [
    "'''4. What are the values of the following expressions?\n",
    "(5 &gt; 4) and (3 == 5)\n",
    "not (5 &gt; 4)\n",
    "(5 &gt; 4) or (3 == 5)\n",
    "not ((5 &gt; 4) or (3 == 5))\n",
    "(True and True) and (True == False)\n",
    "(not False) or (not True)\n",
    "'''"
   ]
  },
  {
   "cell_type": "code",
   "execution_count": null,
   "id": "a98dd1c9",
   "metadata": {},
   "outputs": [],
   "source": [
    "\"\"\" false\n",
    "    false\n",
    "    true\n",
    "    false\n",
    "    false\n",
    "    true\n",
    "\"\"\"\""
   ]
  },
  {
   "cell_type": "code",
   "execution_count": 16,
   "id": "301be910",
   "metadata": {},
   "outputs": [],
   "source": [
    "#5. What are the six comparison operators?"
   ]
  },
  {
   "cell_type": "code",
   "execution_count": null,
   "id": "3df2691b",
   "metadata": {},
   "outputs": [],
   "source": [
    "\"\"\" ==\n",
    "    !=\n",
    "    >\n",
    "    <\n",
    "    >=\n",
    "    <=\n",
    "\"\"\""
   ]
  },
  {
   "cell_type": "code",
   "execution_count": null,
   "id": "d82f6b48",
   "metadata": {},
   "outputs": [],
   "source": [
    "\"\"\"6. How do you tell the difference between the equal to and assignment operators?Describe a\n",
    "condition and when you would use one.\"\"\""
   ]
  },
  {
   "cell_type": "code",
   "execution_count": null,
   "id": "f355bc68",
   "metadata": {},
   "outputs": [],
   "source": [
    "\"\"\" equal to ( == ) operator is used for comparisn and gives boolean output whereas assignment operator ( = ) is used to assign value to a variable"
   ]
  },
  {
   "cell_type": "code",
   "execution_count": null,
   "id": "df3bb2e9",
   "metadata": {},
   "outputs": [],
   "source": [
    "\"\"\"7. Identify the three blocks in this code:\n",
    "spam = 0\n",
    "if spam == 10:\n",
    "print(&#39;eggs&#39;)\n",
    "if spam &gt; 5:\n",
    "print(&#39;bacon&#39;)\n",
    "else:\n",
    "print(&#39;ham&#39;)\n",
    "print(&#39;spam&#39;)\n",
    "print(&#39;spam&#39;)\n",
    "\"\"\""
   ]
  },
  {
   "cell_type": "code",
   "execution_count": null,
   "id": "9746170f",
   "metadata": {},
   "outputs": [],
   "source": [
    "\"\"\" 1) print(&#39;eggs&#39;)\n",
    "    2) print(&#39;bacon&#39;)\n",
    "    3) print(&#39;ham&#39;)\n",
    "       print(&#39;spam&#39;)\n",
    "       print(&#39;spam&#39;)\n",
    "\"\"\"\n",
    "    "
   ]
  },
  {
   "cell_type": "code",
   "execution_count": null,
   "id": "81034423",
   "metadata": {},
   "outputs": [],
   "source": [
    "\"\"\"8. Write code that prints Hello if 1 is stored in spam, prints Howdy if 2 is stored in spam, and prints\n",
    "Greetings! if anything else is stored in spam.\"\"\""
   ]
  },
  {
   "cell_type": "code",
   "execution_count": 4,
   "id": "11074ffa",
   "metadata": {},
   "outputs": [
    {
     "name": "stdout",
     "output_type": "stream",
     "text": [
      "hello\n"
     ]
    }
   ],
   "source": [
    "spam = 1\n",
    "if(spam == 1):\n",
    "    print(\"hello\")\n",
    "elif(spam  == 2):\n",
    "    print(\"howdy\")\n",
    "else:\n",
    "    print(\"greetings\")"
   ]
  },
  {
   "cell_type": "code",
   "execution_count": null,
   "id": "c49f7b13",
   "metadata": {},
   "outputs": [],
   "source": [
    "\"\"\"9.If your programme is stuck in an endless loop, what keys you’ll press?\"\"\""
   ]
  },
  {
   "cell_type": "code",
   "execution_count": null,
   "id": "189cd52d",
   "metadata": {},
   "outputs": [],
   "source": [
    "\"\"\" ctrl + c or interrupt the kernal \"\"\""
   ]
  },
  {
   "cell_type": "code",
   "execution_count": null,
   "id": "b424b2bc",
   "metadata": {},
   "outputs": [],
   "source": [
    "\"\"\"10. How can you tell the difference between break and continue?\"\"\""
   ]
  },
  {
   "cell_type": "code",
   "execution_count": null,
   "id": "f8667009",
   "metadata": {},
   "outputs": [],
   "source": [
    "\"\"\" break statement will bring out of the loop and continue statement will not execute code written below and resume the loop"
   ]
  },
  {
   "cell_type": "code",
   "execution_count": null,
   "id": "18f0de57",
   "metadata": {},
   "outputs": [],
   "source": [
    "\"\"\"11. In a for loop, what is the difference between range(10), range(0, 10), and range(0, 10, 1)?\"\"\""
   ]
  },
  {
   "cell_type": "code",
   "execution_count": 6,
   "id": "3673849d",
   "metadata": {},
   "outputs": [
    {
     "data": {
      "text/plain": [
       "' range(10) - loop will run from 0 (inclusive) to 10(exclusive)\\n    range(0,10) - loop will run from 0(inclusive) to 10(exclusive)\\n    range(0,10,1) - loop will run from 0(inclusive) to 10(exclusive) with jump of 1\\n'"
      ]
     },
     "execution_count": 6,
     "metadata": {},
     "output_type": "execute_result"
    }
   ],
   "source": [
    "\"\"\" range(10) - loop will run from 0 (inclusive) to 10(exclusive)\n",
    "    range(0,10) - loop will run from 0(inclusive) to 10(exclusive)\n",
    "    range(0,10,1) - loop will run from 0(inclusive) to 10(exclusive) with jump of 1\n",
    "\"\"\""
   ]
  },
  {
   "cell_type": "code",
   "execution_count": null,
   "id": "089d1d64",
   "metadata": {},
   "outputs": [],
   "source": [
    "\"\"\"12. Write a short program that prints the numbers 1 to 10 using a for loop. Then write an equivalent\n",
    "program that prints the numbers 1 to 10 using a while loop.\"\"\""
   ]
  },
  {
   "cell_type": "code",
   "execution_count": 10,
   "id": "4d4fb62a",
   "metadata": {},
   "outputs": [
    {
     "name": "stdout",
     "output_type": "stream",
     "text": [
      "1\n",
      "2\n",
      "3\n",
      "4\n",
      "5\n",
      "6\n",
      "7\n",
      "8\n",
      "9\n",
      "10\n"
     ]
    }
   ],
   "source": [
    "for i in range(1,11):\n",
    "    print(i)"
   ]
  },
  {
   "cell_type": "code",
   "execution_count": 11,
   "id": "ef8b2b46",
   "metadata": {},
   "outputs": [
    {
     "name": "stdout",
     "output_type": "stream",
     "text": [
      "1\n",
      "2\n",
      "3\n",
      "4\n",
      "5\n",
      "6\n",
      "7\n",
      "8\n",
      "9\n",
      "10\n"
     ]
    }
   ],
   "source": [
    "i=1\n",
    "while i<11:\n",
    "    print(i)\n",
    "    i=i+1"
   ]
  },
  {
   "cell_type": "code",
   "execution_count": 12,
   "id": "77e897c4",
   "metadata": {},
   "outputs": [
    {
     "data": {
      "text/plain": [
       "'13. If you had a function named bacon() inside a module named spam, how would you call it after\\nimporting spam? '"
      ]
     },
     "execution_count": 12,
     "metadata": {},
     "output_type": "execute_result"
    }
   ],
   "source": [
    "\"\"\"13. If you had a function named bacon() inside a module named spam, how would you call it after\n",
    "importing spam? \"\"\""
   ]
  },
  {
   "cell_type": "code",
   "execution_count": 14,
   "id": "8e2aeda7",
   "metadata": {},
   "outputs": [
    {
     "ename": "ModuleNotFoundError",
     "evalue": "No module named 'spam'",
     "output_type": "error",
     "traceback": [
      "\u001b[1;31m---------------------------------------------------------------------------\u001b[0m",
      "\u001b[1;31mModuleNotFoundError\u001b[0m                       Traceback (most recent call last)",
      "Input \u001b[1;32mIn [14]\u001b[0m, in \u001b[0;36m<cell line: 1>\u001b[1;34m()\u001b[0m\n\u001b[1;32m----> 1\u001b[0m \u001b[38;5;28;01mfrom\u001b[39;00m \u001b[38;5;21;01mspam\u001b[39;00m \u001b[38;5;28;01mimport\u001b[39;00m bacon\n\u001b[0;32m      2\u001b[0m bacon()\n",
      "\u001b[1;31mModuleNotFoundError\u001b[0m: No module named 'spam'"
     ]
    }
   ],
   "source": [
    "from spam import bacon\n",
    "bacon()"
   ]
  }
 ],
 "metadata": {
  "kernelspec": {
   "display_name": "Python 3 (ipykernel)",
   "language": "python",
   "name": "python3"
  },
  "language_info": {
   "codemirror_mode": {
    "name": "ipython",
    "version": 3
   },
   "file_extension": ".py",
   "mimetype": "text/x-python",
   "name": "python",
   "nbconvert_exporter": "python",
   "pygments_lexer": "ipython3",
   "version": "3.9.12"
  }
 },
 "nbformat": 4,
 "nbformat_minor": 5
}
