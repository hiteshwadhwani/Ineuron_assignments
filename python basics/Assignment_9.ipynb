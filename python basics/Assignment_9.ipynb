{
 "cells": [
  {
   "cell_type": "markdown",
   "id": "a97e66d3",
   "metadata": {},
   "source": [
    "# Assignment_9"
   ]
  },
  {
   "cell_type": "code",
   "execution_count": null,
   "id": "8b47a8f2",
   "metadata": {},
   "outputs": [],
   "source": [
    "\"\"\"1. To what does a relative path refer?\n",
    "2. What does an absolute path start with your operating system?\n",
    "3. What do the functions os.getcwd() and os.chdir() do?\n",
    "4. What are the . and .. folders?\n",
    "5. In C:\\bacon\\eggs\\spam.txt, which part is the dir name, and which part is the base name?\n",
    "6. What are the three “mode” arguments that can be passed to the open() function?\n",
    "7. What happens if an existing file is opened in write mode?\n",
    "8. How do you tell the difference between read() and readlines()?\n",
    "9. What data structure does a shelf value resemble?\n",
    "\"\"\""
   ]
  },
  {
   "cell_type": "code",
   "execution_count": null,
   "id": "8a12552e",
   "metadata": {},
   "outputs": [],
   "source": [
    "\"\"\"1) relative path refers to the location relative to the current directory . two special symbols are used\n",
    ".(dot) and /(backslash) \n",
    "\"\"\""
   ]
  },
  {
   "cell_type": "code",
   "execution_count": null,
   "id": "530fd6b9",
   "metadata": {},
   "outputs": [],
   "source": [
    "\"\"\"2) absolute path refers to location starting from root and ending with the all subdirectories to locate a file or folder\"\"\""
   ]
  },
  {
   "cell_type": "code",
   "execution_count": null,
   "id": "8fd349e5",
   "metadata": {},
   "outputs": [],
   "source": [
    "\"\"\"3)\"\"\""
   ]
  },
  {
   "cell_type": "code",
   "execution_count": 1,
   "id": "5b03a170",
   "metadata": {},
   "outputs": [],
   "source": [
    "import os"
   ]
  },
  {
   "cell_type": "code",
   "execution_count": null,
   "id": "48c41089",
   "metadata": {},
   "outputs": [],
   "source": [
    "os.chdir() #it changes the current working dir to specified given location"
   ]
  },
  {
   "cell_type": "code",
   "execution_count": 3,
   "id": "410f359b",
   "metadata": {},
   "outputs": [
    {
     "data": {
      "text/plain": [
       "'E:\\\\INeuron nootbooks\\\\assignments\\\\python basics'"
      ]
     },
     "execution_count": 3,
     "metadata": {},
     "output_type": "execute_result"
    }
   ],
   "source": [
    "os.getcwd() #it gives the location of current working dir"
   ]
  },
  {
   "cell_type": "code",
   "execution_count": null,
   "id": "00ca5324",
   "metadata": {},
   "outputs": [],
   "source": [
    "\"\"\"4) .  - this location\n",
    "      .. - up a dir\n",
    "\"\"\""
   ]
  },
  {
   "cell_type": "code",
   "execution_count": null,
   "id": "2d104484",
   "metadata": {},
   "outputs": [],
   "source": [
    "\"\"\"5) C:\\bacon\\eggs - dir name \n",
    "      spam.txt      - base name \n",
    "\"\"\""
   ]
  },
  {
   "cell_type": "code",
   "execution_count": null,
   "id": "3440a16f",
   "metadata": {},
   "outputs": [],
   "source": [
    "\"\"\"6) r - read\n",
    "w - write\n",
    "a - append\n",
    "\"\"\""
   ]
  },
  {
   "cell_type": "code",
   "execution_count": null,
   "id": "7e3f3986",
   "metadata": {},
   "outputs": [],
   "source": [
    "\"\"\"7) file items are discarded and it is treated as new empty file\"\"\""
   ]
  },
  {
   "cell_type": "code",
   "execution_count": null,
   "id": "8c5c5ff8",
   "metadata": {},
   "outputs": [],
   "source": [
    "\"\"\"8) read() will read the whole file in one itetration and readline() will read line by line\"\"\""
   ]
  },
  {
   "cell_type": "code",
   "execution_count": null,
   "id": "4c671da9",
   "metadata": {},
   "outputs": [],
   "source": [
    "\"\"\"9) dictionary value \"\"\""
   ]
  }
 ],
 "metadata": {
  "kernelspec": {
   "display_name": "Python 3 (ipykernel)",
   "language": "python",
   "name": "python3"
  },
  "language_info": {
   "codemirror_mode": {
    "name": "ipython",
    "version": 3
   },
   "file_extension": ".py",
   "mimetype": "text/x-python",
   "name": "python",
   "nbconvert_exporter": "python",
   "pygments_lexer": "ipython3",
   "version": "3.9.12"
  }
 },
 "nbformat": 4,
 "nbformat_minor": 5
}
