{
 "cells": [
  {
   "cell_type": "markdown",
   "id": "58982232",
   "metadata": {},
   "source": [
    "# Assignment_12"
   ]
  },
  {
   "cell_type": "markdown",
   "id": "caeb5eff",
   "metadata": {},
   "source": [
    "## packages used - pyPDF2 , python-docx"
   ]
  },
  {
   "cell_type": "markdown",
   "id": "00e29416",
   "metadata": {},
   "source": [
    "### 1. In what modes should the PdfFileReader() and PdfFileWriter() File objects will be opened?"
   ]
  },
  {
   "cell_type": "code",
   "execution_count": 1,
   "id": "27a82a9f",
   "metadata": {},
   "outputs": [
    {
     "name": "stdout",
     "output_type": "stream",
     "text": [
      "Defaulting to user installation because normal site-packages is not writeable\n",
      "Requirement already satisfied: PyPDF2 in c:\\users\\hitesh wadhwani\\appdata\\roaming\\python\\python39\\site-packages (2.0.0)\n",
      "Requirement already satisfied: typing-extensions in c:\\programdata\\anaconda3\\lib\\site-packages (from PyPDF2) (4.1.1)\n",
      "Note: you may need to restart the kernel to use updated packages.\n"
     ]
    }
   ],
   "source": [
    "%pip install PyPDF2"
   ]
  },
  {
   "cell_type": "code",
   "execution_count": 3,
   "id": "7fc3392a",
   "metadata": {},
   "outputs": [],
   "source": [
    "import PyPDF2 as pd"
   ]
  },
  {
   "cell_type": "code",
   "execution_count": null,
   "id": "14b7d55e",
   "metadata": {},
   "outputs": [],
   "source": [
    "\"\"\" for PdfFileReader() files should be open in read binary(rb) mode and for PdfFileWriter() file should be \n",
    "open in write binary(wb) mode \"\"\""
   ]
  },
  {
   "cell_type": "markdown",
   "id": "b10330a7",
   "metadata": {},
   "source": [
    "### 2. From a PdfFileReader object, how do you get a Page object for page 5?"
   ]
  },
  {
   "cell_type": "code",
   "execution_count": 16,
   "id": "9c27f61e",
   "metadata": {},
   "outputs": [
    {
     "name": "stdout",
     "output_type": "stream",
     "text": [
      "1\n"
     ]
    },
    {
     "name": "stderr",
     "output_type": "stream",
     "text": [
      "C:\\Users\\hitesh wadhwani\\AppData\\Roaming\\Python\\Python39\\site-packages\\PyPDF2\\_reader.py:1129: PdfReadWarning: Superfluous whitespace found in object header b'1' b'0'\n",
      "  warnings.warn(\n",
      "C:\\Users\\hitesh wadhwani\\AppData\\Roaming\\Python\\Python39\\site-packages\\PyPDF2\\_reader.py:1129: PdfReadWarning: Superfluous whitespace found in object header b'2' b'0'\n",
      "  warnings.warn(\n",
      "C:\\Users\\hitesh wadhwani\\AppData\\Roaming\\Python\\Python39\\site-packages\\PyPDF2\\_reader.py:1129: PdfReadWarning: Superfluous whitespace found in object header b'3' b'0'\n",
      "  warnings.warn(\n"
     ]
    },
    {
     "ename": "IndexError",
     "evalue": "list index out of range",
     "output_type": "error",
     "traceback": [
      "\u001b[1;31m---------------------------------------------------------------------------\u001b[0m",
      "\u001b[1;31mIndexError\u001b[0m                                Traceback (most recent call last)",
      "Input \u001b[1;32mIn [16]\u001b[0m, in \u001b[0;36m<cell line: 1>\u001b[1;34m()\u001b[0m\n\u001b[0;32m      2\u001b[0m fileObj \u001b[38;5;241m=\u001b[39m pd\u001b[38;5;241m.\u001b[39mPdfFileReader(file)\n\u001b[0;32m      3\u001b[0m \u001b[38;5;28mprint\u001b[39m(fileObj\u001b[38;5;241m.\u001b[39mgetNumPages())\n\u001b[1;32m----> 4\u001b[0m page \u001b[38;5;241m=\u001b[39m \u001b[43mfileObj\u001b[49m\u001b[38;5;241;43m.\u001b[39;49m\u001b[43mgetPage\u001b[49m\u001b[43m(\u001b[49m\u001b[38;5;241;43m5\u001b[39;49m\u001b[43m)\u001b[49m\n\u001b[0;32m      5\u001b[0m \u001b[38;5;28mprint\u001b[39m(page\u001b[38;5;241m.\u001b[39mextractText())\n",
      "File \u001b[1;32m~\\AppData\\Roaming\\Python\\Python39\\site-packages\\PyPDF2\\_reader.py:386\u001b[0m, in \u001b[0;36mPdfReader.getPage\u001b[1;34m(self, pageNumber)\u001b[0m\n\u001b[0;32m    380\u001b[0m \u001b[38;5;124;03m\"\"\"\u001b[39;00m\n\u001b[0;32m    381\u001b[0m \u001b[38;5;124;03m.. deprecated:: 1.28.0\u001b[39;00m\n\u001b[0;32m    382\u001b[0m \n\u001b[0;32m    383\u001b[0m \u001b[38;5;124;03m    Use :code:`reader.pages[pageNumber]` instead.\u001b[39;00m\n\u001b[0;32m    384\u001b[0m \u001b[38;5;124;03m\"\"\"\u001b[39;00m\n\u001b[0;32m    385\u001b[0m deprecate_with_replacement(\u001b[38;5;124m\"\u001b[39m\u001b[38;5;124mreader.getPage(pageNumber)\u001b[39m\u001b[38;5;124m\"\u001b[39m, \u001b[38;5;124m\"\u001b[39m\u001b[38;5;124mreader.pages[pageNumber]\u001b[39m\u001b[38;5;124m\"\u001b[39m)\n\u001b[1;32m--> 386\u001b[0m \u001b[38;5;28;01mreturn\u001b[39;00m \u001b[38;5;28;43mself\u001b[39;49m\u001b[38;5;241;43m.\u001b[39;49m\u001b[43m_get_page\u001b[49m\u001b[43m(\u001b[49m\u001b[43mpageNumber\u001b[49m\u001b[43m)\u001b[49m\n",
      "File \u001b[1;32m~\\AppData\\Roaming\\Python\\Python39\\site-packages\\PyPDF2\\_reader.py:402\u001b[0m, in \u001b[0;36mPdfReader._get_page\u001b[1;34m(self, page_number)\u001b[0m\n\u001b[0;32m    400\u001b[0m     \u001b[38;5;28mself\u001b[39m\u001b[38;5;241m.\u001b[39m_flatten()\n\u001b[0;32m    401\u001b[0m \u001b[38;5;28;01massert\u001b[39;00m \u001b[38;5;28mself\u001b[39m\u001b[38;5;241m.\u001b[39mflattened_pages \u001b[38;5;129;01mis\u001b[39;00m \u001b[38;5;129;01mnot\u001b[39;00m \u001b[38;5;28;01mNone\u001b[39;00m, \u001b[38;5;124m\"\u001b[39m\u001b[38;5;124mhint for mypy\u001b[39m\u001b[38;5;124m\"\u001b[39m\n\u001b[1;32m--> 402\u001b[0m \u001b[38;5;28;01mreturn\u001b[39;00m \u001b[38;5;28;43mself\u001b[39;49m\u001b[38;5;241;43m.\u001b[39;49m\u001b[43mflattened_pages\u001b[49m\u001b[43m[\u001b[49m\u001b[43mpage_number\u001b[49m\u001b[43m]\u001b[49m\n",
      "\u001b[1;31mIndexError\u001b[0m: list index out of range"
     ]
    }
   ],
   "source": [
    "with open(\"test.pdf\" , \"rb\") as file:\n",
    "    fileObj = pd.PdfFileReader(file)\n",
    "    print(fileObj.getNumPages())\n",
    "    page = fileObj.getPage(5) #i dont have 5 pages in pdf thats why it is giving me an error\n",
    "    print(page.extractText()) "
   ]
  },
  {
   "cell_type": "markdown",
   "id": "a6ea4c22",
   "metadata": {},
   "source": [
    "### 3. What PdfFileReader variable stores the number of pages in the PDF document?"
   ]
  },
  {
   "cell_type": "code",
   "execution_count": 17,
   "id": "4649e536",
   "metadata": {},
   "outputs": [
    {
     "name": "stdout",
     "output_type": "stream",
     "text": [
      "1\n"
     ]
    }
   ],
   "source": [
    "with open(\"test.pdf\" , \"rb\") as file:\n",
    "    fileObj = pd.PdfFileReader(file)\n",
    "    print(fileObj.getNumPages())"
   ]
  },
  {
   "cell_type": "markdown",
   "id": "da777fae",
   "metadata": {},
   "source": [
    "### 4. If a PdfFileReader object’s PDF is encrypted with the password swordfish, what must you do before you can obtain Page objects from it?"
   ]
  },
  {
   "cell_type": "code",
   "execution_count": null,
   "id": "dc64ea7f",
   "metadata": {},
   "outputs": [],
   "source": [
    "with open(\"test.pdf\" , \"rb\") as file:\n",
    "    fileObj = pd.PdfFileReader(file)\n",
    "    fileObj.decrypt(\"swordfish\")"
   ]
  },
  {
   "cell_type": "markdown",
   "id": "5868d805",
   "metadata": {},
   "source": [
    "###  5. What methods do you use to rotate a page?"
   ]
  },
  {
   "cell_type": "code",
   "execution_count": 20,
   "id": "0acfc8d1",
   "metadata": {},
   "outputs": [
    {
     "name": "stderr",
     "output_type": "stream",
     "text": [
      "C:\\Users\\hitesh wadhwani\\AppData\\Roaming\\Python\\Python39\\site-packages\\PyPDF2\\_reader.py:1129: PdfReadWarning: Superfluous whitespace found in object header b'1' b'0'\n",
      "  warnings.warn(\n",
      "C:\\Users\\hitesh wadhwani\\AppData\\Roaming\\Python\\Python39\\site-packages\\PyPDF2\\_reader.py:1129: PdfReadWarning: Superfluous whitespace found in object header b'2' b'0'\n",
      "  warnings.warn(\n",
      "C:\\Users\\hitesh wadhwani\\AppData\\Roaming\\Python\\Python39\\site-packages\\PyPDF2\\_reader.py:1129: PdfReadWarning: Superfluous whitespace found in object header b'3' b'0'\n",
      "  warnings.warn(\n"
     ]
    }
   ],
   "source": [
    "with open(\"test.pdf\" , \"rb\") as file:\n",
    "    fileObj = pd.PdfFileReader(file)\n",
    "    page1 = fileObj.pages[0].rotate_clockwise(90)"
   ]
  },
  {
   "cell_type": "markdown",
   "id": "7b17debd",
   "metadata": {},
   "source": [
    "### 6. What is the difference between a Run object and a Paragraph object?"
   ]
  },
  {
   "cell_type": "code",
   "execution_count": null,
   "id": "8dd3883f",
   "metadata": {},
   "outputs": [],
   "source": [
    "\"\"\"paragraph object is a document contains multiple paragraph . A document object contains the list of paragraph objects .\"\"\""
   ]
  },
  {
   "cell_type": "code",
   "execution_count": null,
   "id": "fd09097b",
   "metadata": {},
   "outputs": [],
   "source": [
    "\"\"\"Run object is a continues group of characters of same style within paragraph object\"\"\""
   ]
  },
  {
   "cell_type": "markdown",
   "id": "10f495cd",
   "metadata": {},
   "source": [
    "### 7. How do you obtain a list of Paragraph objects for a Document object that’s stored in a variable named doc?"
   ]
  },
  {
   "cell_type": "code",
   "execution_count": 6,
   "id": "f72509c8",
   "metadata": {},
   "outputs": [],
   "source": [
    "from docx import Document"
   ]
  },
  {
   "cell_type": "code",
   "execution_count": 5,
   "id": "bda2ccad",
   "metadata": {},
   "outputs": [
    {
     "name": "stdout",
     "output_type": "stream",
     "text": [
      "Defaulting to user installation because normal site-packages is not writeable\n",
      "Collecting python-docx\n",
      "  Downloading python-docx-0.8.11.tar.gz (5.6 MB)\n",
      "Requirement already satisfied: lxml>=2.3.2 in c:\\programdata\\anaconda3\\lib\\site-packages (from python-docx) (4.8.0)\n",
      "Building wheels for collected packages: python-docx\n",
      "  Building wheel for python-docx (setup.py): started\n",
      "  Building wheel for python-docx (setup.py): finished with status 'done'\n",
      "  Created wheel for python-docx: filename=python_docx-0.8.11-py3-none-any.whl size=184507 sha256=a8222549c23a2b4ce133350376777df8f6c7bb14e6f564a039e21efd277c78cd\n",
      "  Stored in directory: c:\\users\\hitesh wadhwani\\appdata\\local\\pip\\cache\\wheels\\83\\8b\\7c\\09ae60c42c7ba4ed2dddaf2b8b9186cb105255856d6ed3dba5\n",
      "Successfully built python-docx\n",
      "Installing collected packages: python-docx\n",
      "Successfully installed python-docx-0.8.11\n",
      "Note: you may need to restart the kernel to use updated packages.\n"
     ]
    }
   ],
   "source": [
    "%pip install python-docx"
   ]
  },
  {
   "cell_type": "code",
   "execution_count": 7,
   "id": "45cf75f4",
   "metadata": {},
   "outputs": [],
   "source": [
    "doc = Document(\"test.docx\")"
   ]
  },
  {
   "cell_type": "code",
   "execution_count": 10,
   "id": "38f05b8b",
   "metadata": {},
   "outputs": [
    {
     "data": {
      "text/plain": [
       "[<docx.text.paragraph.Paragraph at 0x1f88885baf0>,\n",
       " <docx.text.paragraph.Paragraph at 0x1f88885b4c0>,\n",
       " <docx.text.paragraph.Paragraph at 0x1f88885b520>,\n",
       " <docx.text.paragraph.Paragraph at 0x1f88885ba60>]"
      ]
     },
     "execution_count": 10,
     "metadata": {},
     "output_type": "execute_result"
    }
   ],
   "source": [
    "doc.paragraphs"
   ]
  },
  {
   "cell_type": "code",
   "execution_count": 14,
   "id": "88799bdf",
   "metadata": {},
   "outputs": [
    {
     "name": "stdout",
     "output_type": "stream",
     "text": [
      "Hello world\n",
      "This a test document for ineuron assignment\n",
      "Hitesh wadhwani\n",
      "\n"
     ]
    }
   ],
   "source": [
    "for i in doc.paragraphs:\n",
    "    print(i.text)"
   ]
  },
  {
   "cell_type": "markdown",
   "id": "039c3129",
   "metadata": {},
   "source": [
    "### 8. What type of object has bold, underline, italic, strike, and outline variables?"
   ]
  },
  {
   "cell_type": "code",
   "execution_count": 16,
   "id": "3b52825c",
   "metadata": {},
   "outputs": [
    {
     "data": {
      "text/plain": [
       "'font objects has bold , underline , italic , strike and outline variables'"
      ]
     },
     "execution_count": 16,
     "metadata": {},
     "output_type": "execute_result"
    }
   ],
   "source": [
    "\"\"\"font objects has bold , underline , italic , strike and outline variables\"\"\""
   ]
  },
  {
   "cell_type": "markdown",
   "id": "183763aa",
   "metadata": {},
   "source": [
    "### 9. What is the difference between False, True, and None for the bold variable?"
   ]
  },
  {
   "cell_type": "code",
   "execution_count": null,
   "id": "67b04048",
   "metadata": {},
   "outputs": [],
   "source": [
    "\"\"\"font properties are tri-state . True means the property is on , False means the property is off , None means\n",
    "to use default\"\"\""
   ]
  },
  {
   "cell_type": "markdown",
   "id": "cc09f3fe",
   "metadata": {},
   "source": [
    "### 10. How do you create a Document object for a new Word document?"
   ]
  },
  {
   "cell_type": "code",
   "execution_count": 24,
   "id": "3fd15d50",
   "metadata": {},
   "outputs": [],
   "source": [
    "docObj = Document()"
   ]
  },
  {
   "cell_type": "markdown",
   "id": "4c9fe74f",
   "metadata": {},
   "source": [
    "### 11. How do you add a paragraph with the text &#39;Hello, there!&#39; to a Document object stored in a variable named doc?"
   ]
  },
  {
   "cell_type": "code",
   "execution_count": 25,
   "id": "6f897fa6",
   "metadata": {},
   "outputs": [
    {
     "data": {
      "text/plain": [
       "<docx.text.paragraph.Paragraph at 0x1f8882198b0>"
      ]
     },
     "execution_count": 25,
     "metadata": {},
     "output_type": "execute_result"
    }
   ],
   "source": [
    "docObj.add_paragraph(\"hello, there!\" , style='List Number')"
   ]
  },
  {
   "cell_type": "code",
   "execution_count": 26,
   "id": "e977d77f",
   "metadata": {},
   "outputs": [],
   "source": [
    "docObj.save(\"demo.docx\")"
   ]
  },
  {
   "cell_type": "code",
   "execution_count": 27,
   "id": "bcb49093",
   "metadata": {},
   "outputs": [
    {
     "name": "stdout",
     "output_type": "stream",
     "text": [
      "hello, there!\n"
     ]
    }
   ],
   "source": [
    "for i in docObj.paragraphs:\n",
    "    print(i.text)"
   ]
  },
  {
   "cell_type": "markdown",
   "id": "976196f4",
   "metadata": {},
   "source": [
    "### 12. What integers represent the levels of headings available in Word documents?"
   ]
  },
  {
   "cell_type": "code",
   "execution_count": null,
   "id": "6695b2ce",
   "metadata": {},
   "outputs": [],
   "source": [
    "\"\"\"when the level is 0 the string is printed as title of document . for all other values it prints a heading (range - 1 - 9) \n",
    "as the level increases the size of heading decreases\"\"\""
   ]
  }
 ],
 "metadata": {
  "kernelspec": {
   "display_name": "Python 3 (ipykernel)",
   "language": "python",
   "name": "python3"
  },
  "language_info": {
   "codemirror_mode": {
    "name": "ipython",
    "version": 3
   },
   "file_extension": ".py",
   "mimetype": "text/x-python",
   "name": "python",
   "nbconvert_exporter": "python",
   "pygments_lexer": "ipython3",
   "version": "3.9.12"
  }
 },
 "nbformat": 4,
 "nbformat_minor": 5
}
