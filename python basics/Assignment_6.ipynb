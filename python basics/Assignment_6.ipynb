{
 "cells": [
  {
   "cell_type": "markdown",
   "id": "d7f90476",
   "metadata": {},
   "source": [
    "# Assignment_6"
   ]
  },
  {
   "cell_type": "code",
   "execution_count": null,
   "id": "52bd58e3",
   "metadata": {},
   "outputs": [],
   "source": [
    "\"\"\"\n",
    "1. What are escape characters, and how do you use them?\n",
    "2. What do the escape characters n and t stand for?\n",
    "3. What is the way to include backslash characters in a string?\n",
    "4. The string &quot;Howl&#39;s Moving Castle&quot; is a correct value. Why isn&#39;t the single quote character in the\n",
    "word Howl&#39;s not escaped a problem?\n",
    "5. How do you write a string of newlines if you don&#39;t want to use the n character?\n",
    "6. What are the values of the given expressions?\n",
    "&#39;Hello, world!&#39;[1]\n",
    "&#39;Hello, world!&#39;[0:5]\n",
    "&#39;Hello, world!&#39;[:5]\n",
    "&#39;Hello, world!&#39;[3:]\n",
    "\n",
    "7. What are the values of the following expressions?\n",
    "&#39;Hello&#39;.upper()\n",
    "&#39;Hello&#39;.upper().isupper()\n",
    "&#39;Hello&#39;.upper().lower()\n",
    "8. What are the values of the following expressions?\n",
    "&#39;Remember, remember, the fifth of July.&#39;.split()\n",
    "&#39;-&#39;.join(&#39;There can only one.&#39;.split())\n",
    "9. What are the methods for right-justifying, left-justifying, and centering a string?\n",
    "10. What is the best way to remove whitespace characters from the start or end?\n",
    "\"\"\""
   ]
  },
  {
   "cell_type": "code",
   "execution_count": null,
   "id": "18beeece",
   "metadata": {},
   "outputs": [],
   "source": [
    "\"\"\"1)Escape character is a backslash \\ followed by character want to insert\"\"\"\n"
   ]
  },
  {
   "cell_type": "code",
   "execution_count": null,
   "id": "7c09b623",
   "metadata": {},
   "outputs": [],
   "source": [
    "\"\"\"2)\\n stands for new line and \\t stands for tab\"\"\""
   ]
  },
  {
   "cell_type": "code",
   "execution_count": null,
   "id": "c67d0fd4",
   "metadata": {},
   "outputs": [],
   "source": [
    "\"\"\"3)backslash followed by character\"\"\""
   ]
  },
  {
   "cell_type": "code",
   "execution_count": 2,
   "id": "11454a21",
   "metadata": {},
   "outputs": [],
   "source": [
    "s = \"hello \\nworld\""
   ]
  },
  {
   "cell_type": "code",
   "execution_count": 4,
   "id": "06ede13b",
   "metadata": {},
   "outputs": [
    {
     "name": "stdout",
     "output_type": "stream",
     "text": [
      "hello \n",
      "world\n"
     ]
    }
   ],
   "source": [
    "print(s)"
   ]
  },
  {
   "cell_type": "code",
   "execution_count": null,
   "id": "2c0f3a99",
   "metadata": {},
   "outputs": [],
   "source": [
    "\"\"\"4)because we have used double quotes to write a string\"\"\""
   ]
  },
  {
   "cell_type": "code",
   "execution_count": null,
   "id": "b9372468",
   "metadata": {},
   "outputs": [],
   "source": [
    "\"\"\"5)triple quotes can be used to write string without \\n\"\"\""
   ]
  },
  {
   "cell_type": "code",
   "execution_count": null,
   "id": "f81a5552",
   "metadata": {},
   "outputs": [],
   "source": [
    "\"\"\"6)\"\"\""
   ]
  },
  {
   "cell_type": "code",
   "execution_count": 5,
   "id": "e7178fdc",
   "metadata": {},
   "outputs": [],
   "source": [
    "t = \"Hello, world!\""
   ]
  },
  {
   "cell_type": "code",
   "execution_count": 6,
   "id": "97247978",
   "metadata": {},
   "outputs": [
    {
     "data": {
      "text/plain": [
       "'e'"
      ]
     },
     "execution_count": 6,
     "metadata": {},
     "output_type": "execute_result"
    }
   ],
   "source": [
    "t[1]"
   ]
  },
  {
   "cell_type": "code",
   "execution_count": 7,
   "id": "f100091c",
   "metadata": {},
   "outputs": [
    {
     "data": {
      "text/plain": [
       "'Hello'"
      ]
     },
     "execution_count": 7,
     "metadata": {},
     "output_type": "execute_result"
    }
   ],
   "source": [
    "t[0:5]"
   ]
  },
  {
   "cell_type": "code",
   "execution_count": 8,
   "id": "4386606b",
   "metadata": {},
   "outputs": [
    {
     "data": {
      "text/plain": [
       "'Hello'"
      ]
     },
     "execution_count": 8,
     "metadata": {},
     "output_type": "execute_result"
    }
   ],
   "source": [
    "t[:5]"
   ]
  },
  {
   "cell_type": "code",
   "execution_count": 9,
   "id": "9ba8351a",
   "metadata": {},
   "outputs": [
    {
     "data": {
      "text/plain": [
       "''"
      ]
     },
     "execution_count": 9,
     "metadata": {},
     "output_type": "execute_result"
    }
   ],
   "source": [
    "t[3:0]"
   ]
  },
  {
   "cell_type": "code",
   "execution_count": null,
   "id": "f0ba95b6",
   "metadata": {},
   "outputs": [],
   "source": [
    "\"\"\"7)\"\"\""
   ]
  },
  {
   "cell_type": "code",
   "execution_count": 10,
   "id": "979252dc",
   "metadata": {},
   "outputs": [],
   "source": [
    "e = \"hello\""
   ]
  },
  {
   "cell_type": "code",
   "execution_count": 11,
   "id": "638b7ef2",
   "metadata": {},
   "outputs": [
    {
     "data": {
      "text/plain": [
       "'HELLO'"
      ]
     },
     "execution_count": 11,
     "metadata": {},
     "output_type": "execute_result"
    }
   ],
   "source": [
    "e.upper()"
   ]
  },
  {
   "cell_type": "code",
   "execution_count": 12,
   "id": "60141685",
   "metadata": {},
   "outputs": [
    {
     "data": {
      "text/plain": [
       "True"
      ]
     },
     "execution_count": 12,
     "metadata": {},
     "output_type": "execute_result"
    }
   ],
   "source": [
    "e.upper().isupper()"
   ]
  },
  {
   "cell_type": "code",
   "execution_count": 13,
   "id": "b2ec9c37",
   "metadata": {},
   "outputs": [
    {
     "data": {
      "text/plain": [
       "'hello'"
      ]
     },
     "execution_count": 13,
     "metadata": {},
     "output_type": "execute_result"
    }
   ],
   "source": [
    "e.upper().lower()"
   ]
  },
  {
   "cell_type": "code",
   "execution_count": null,
   "id": "94253670",
   "metadata": {},
   "outputs": [],
   "source": [
    "\"\"\"8)\"\"\""
   ]
  },
  {
   "cell_type": "code",
   "execution_count": 16,
   "id": "14110b88",
   "metadata": {},
   "outputs": [
    {
     "data": {
      "text/plain": [
       "['Remember,', 'remember,', 'the', 'fifth', 'of', 'july']"
      ]
     },
     "execution_count": 16,
     "metadata": {},
     "output_type": "execute_result"
    }
   ],
   "source": [
    "\"Remember, remember, the fifth of july\".split()"
   ]
  },
  {
   "cell_type": "code",
   "execution_count": 17,
   "id": "10fbfdf1",
   "metadata": {},
   "outputs": [
    {
     "data": {
      "text/plain": [
       "'there-can-only-be-one'"
      ]
     },
     "execution_count": 17,
     "metadata": {},
     "output_type": "execute_result"
    }
   ],
   "source": [
    "'-'.join(\"there can only be one\".split())"
   ]
  },
  {
   "cell_type": "code",
   "execution_count": null,
   "id": "ba2eca53",
   "metadata": {},
   "outputs": [],
   "source": [
    "\"\"\"9)\"\"\""
   ]
  },
  {
   "cell_type": "code",
   "execution_count": 21,
   "id": "c0968c6d",
   "metadata": {},
   "outputs": [
    {
     "data": {
      "text/plain": [
       "'hello###############'"
      ]
     },
     "execution_count": 21,
     "metadata": {},
     "output_type": "execute_result"
    }
   ],
   "source": [
    "e.ljust(20,'#')   #left justify"
   ]
  },
  {
   "cell_type": "code",
   "execution_count": 22,
   "id": "9717dbee",
   "metadata": {},
   "outputs": [
    {
     "data": {
      "text/plain": [
       "'###############hello'"
      ]
     },
     "execution_count": 22,
     "metadata": {},
     "output_type": "execute_result"
    }
   ],
   "source": [
    "e.rjust(20,'#') #right justify"
   ]
  },
  {
   "cell_type": "code",
   "execution_count": 29,
   "id": "64470b81",
   "metadata": {},
   "outputs": [
    {
     "data": {
      "text/plain": [
       "'#######hello########'"
      ]
     },
     "execution_count": 29,
     "metadata": {},
     "output_type": "execute_result"
    }
   ],
   "source": [
    "e.center(20,'#') #centre"
   ]
  },
  {
   "cell_type": "code",
   "execution_count": null,
   "id": "9f310b97",
   "metadata": {},
   "outputs": [],
   "source": [
    "\"\"\"10)\"\"\""
   ]
  },
  {
   "cell_type": "code",
   "execution_count": 24,
   "id": "d5746092",
   "metadata": {},
   "outputs": [],
   "source": [
    "s = \"     hitesh        wadhwani         \""
   ]
  },
  {
   "cell_type": "code",
   "execution_count": 25,
   "id": "b415e5f8",
   "metadata": {},
   "outputs": [
    {
     "data": {
      "text/plain": [
       "'hitesh        wadhwani         '"
      ]
     },
     "execution_count": 25,
     "metadata": {},
     "output_type": "execute_result"
    }
   ],
   "source": [
    "s.lstrip()         #remove whitespace from left side"
   ]
  },
  {
   "cell_type": "code",
   "execution_count": 27,
   "id": "ab50064c",
   "metadata": {},
   "outputs": [
    {
     "data": {
      "text/plain": [
       "'     hitesh        wadhwani'"
      ]
     },
     "execution_count": 27,
     "metadata": {},
     "output_type": "execute_result"
    }
   ],
   "source": [
    "s.rstrip()      #remove whitespace from right side"
   ]
  },
  {
   "cell_type": "code",
   "execution_count": 28,
   "id": "394af226",
   "metadata": {},
   "outputs": [
    {
     "data": {
      "text/plain": [
       "'hitesh        wadhwani'"
      ]
     },
     "execution_count": 28,
     "metadata": {},
     "output_type": "execute_result"
    }
   ],
   "source": [
    "s.strip()     #remove whitespace from both side"
   ]
  }
 ],
 "metadata": {
  "kernelspec": {
   "display_name": "Python 3 (ipykernel)",
   "language": "python",
   "name": "python3"
  },
  "language_info": {
   "codemirror_mode": {
    "name": "ipython",
    "version": 3
   },
   "file_extension": ".py",
   "mimetype": "text/x-python",
   "name": "python",
   "nbconvert_exporter": "python",
   "pygments_lexer": "ipython3",
   "version": "3.9.12"
  }
 },
 "nbformat": 4,
 "nbformat_minor": 5
}
